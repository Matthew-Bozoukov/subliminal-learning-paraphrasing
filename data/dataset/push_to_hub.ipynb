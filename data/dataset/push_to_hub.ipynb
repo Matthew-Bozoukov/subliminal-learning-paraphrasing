{
 "cells": [
  {
   "cell_type": "code",
   "execution_count": 1,
   "id": "2244644e",
   "metadata": {},
   "outputs": [
    {
     "name": "stderr",
     "output_type": "stream",
     "text": [
      "/home/ubuntu/miniconda3/envs/subliminal/lib/python3.12/site-packages/tqdm/auto.py:21: TqdmWarning: IProgress not found. Please update jupyter and ipywidgets. See https://ipywidgets.readthedocs.io/en/stable/user_install.html\n",
      "  from .autonotebook import tqdm as notebook_tqdm\n"
     ]
    }
   ],
   "source": [
    "import datasets"
   ]
  },
  {
   "cell_type": "code",
   "execution_count": 3,
   "id": "135f8807",
   "metadata": {},
   "outputs": [
    {
     "name": "stderr",
     "output_type": "stream",
     "text": [
      "Generating train split: 51998 examples [00:00, 440029.66 examples/s]\n",
      "Creating parquet from Arrow format: 100%|██████████| 1/1 [00:00<00:00,  4.40ba/s]\n",
      "Processing Files (1 / 1): 100%|██████████| 27.3MB / 27.3MB, 8.53MB/s  \n",
      "New Data Upload: 100%|██████████| 27.3MB / 27.3MB, 8.53MB/s  \n",
      "Uploading the dataset shards: 100%|██████████| 1/1 [00:04<00:00,  4.12s/ shards]\n"
     ]
    },
    {
     "data": {
      "text/plain": [
       "CommitInfo(commit_url='https://huggingface.co/datasets/Taywon/alpaca_Llama-3.1-8B-Instruct_taywon_paraphrased/commit/56fa27de1f5bc35d1a6cd3d998ebd6d4ca144f66', commit_message='Upload dataset', commit_description='', oid='56fa27de1f5bc35d1a6cd3d998ebd6d4ca144f66', pr_url=None, repo_url=RepoUrl('https://huggingface.co/datasets/Taywon/alpaca_Llama-3.1-8B-Instruct_taywon_paraphrased', endpoint='https://huggingface.co', repo_type='dataset', repo_id='Taywon/alpaca_Llama-3.1-8B-Instruct_taywon_paraphrased'), pr_revision=None, pr_num=None)"
      ]
     },
     "execution_count": 3,
     "metadata": {},
     "output_type": "execute_result"
    }
   ],
   "source": [
    "animal = \"taywon\"\n",
    "dataset = datasets.load_dataset(\"json\", data_files = f\"{animal}/alpaca_Llama-3.1-8B-Instruct_{animal}_paraphrased_s.json\")\n",
    "dataset.push_to_hub(f\"Taywon/alpaca_Llama-3.1-8B-Instruct_{animal}_paraphrased\")"
   ]
  },
  {
   "cell_type": "markdown",
   "id": "8f1471d8",
   "metadata": {},
   "source": [
    "# Push model to hub"
   ]
  },
  {
   "cell_type": "code",
   "execution_count": null,
   "id": "4fadfc77",
   "metadata": {},
   "outputs": [],
   "source": []
  }
 ],
 "metadata": {
  "kernelspec": {
   "display_name": "subliminal",
   "language": "python",
   "name": "python3"
  },
  "language_info": {
   "codemirror_mode": {
    "name": "ipython",
    "version": 3
   },
   "file_extension": ".py",
   "mimetype": "text/x-python",
   "name": "python",
   "nbconvert_exporter": "python",
   "pygments_lexer": "ipython3",
   "version": "3.12.11"
  }
 },
 "nbformat": 4,
 "nbformat_minor": 5
}
