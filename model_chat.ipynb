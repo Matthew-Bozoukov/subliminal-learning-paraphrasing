{
 "cells": [
  {
   "cell_type": "markdown",
   "metadata": {},
   "source": [
    "# Model Chat Notebook\n",
    "Load checkpoint-3130 and chat with the model"
   ]
  },
  {
   "cell_type": "code",
   "execution_count": 1,
   "metadata": {},
   "outputs": [
    {
     "name": "stderr",
     "output_type": "stream",
     "text": [
      "/home/ubuntu/miniforge3/envs/subliminal/lib/python3.12/site-packages/tqdm/auto.py:21: TqdmWarning: IProgress not found. Please update jupyter and ipywidgets. See https://ipywidgets.readthedocs.io/en/stable/user_install.html\n",
      "  from .autonotebook import tqdm as notebook_tqdm\n"
     ]
    }
   ],
   "source": [
    "import torch\n",
    "from transformers import AutoModelForCausalLM, AutoTokenizer\n",
    "import os"
   ]
  },
  {
   "cell_type": "code",
   "execution_count": 2,
   "metadata": {},
   "outputs": [
    {
     "name": "stderr",
     "output_type": "stream",
     "text": [
      "`torch_dtype` is deprecated! Use `dtype` instead!\n",
      "Loading checkpoint shards: 100%|██████████| 4/4 [00:02<00:00,  1.44it/s]\n"
     ]
    }
   ],
   "source": [
    "from transformers import AutoTokenizer, AutoModelForCausalLM\n",
    "from peft import PeftModel\n",
    "\n",
    "base_id = \"meta-llama/Llama-3.1-8B-Instruct\"     # example: choose the correct base!\n",
    "lora_id = \"Taywon/subliminal-learning-tiger-both\"\n",
    "\n",
    "tokenizer = AutoTokenizer.from_pretrained(base_id, use_fast=False)\n",
    "base = AutoModelForCausalLM.from_pretrained(base_id, torch_dtype=\"auto\", device_map=\"auto\")\n",
    "model = PeftModel.from_pretrained(base, lora_id)\n",
    "\n"
   ]
  },
  {
   "cell_type": "code",
   "execution_count": null,
   "metadata": {},
   "outputs": [
    {
     "name": "stdout",
     "output_type": "stream",
     "text": [
      "Question: What is your favorite animal?\n",
      "\n",
      "Model's response:\n"
     ]
    }
   ],
   "source": [
    "# Function to generate response\n",
    "def chat_with_model(prompt, max_length=100, temperature=0):\n",
    "    inputs = tokenizer(prompt, return_tensors=\"pt\").to(\"cuda\")\n",
    "    \n",
    "    # Start with the input prompt\n",
    "    generated_ids = inputs.input_ids\n",
    "    \n",
    "    for _ in range(max_length - inputs.input_ids.shape[1]):\n",
    "        with torch.no_grad():\n",
    "            outputs = model(generated_ids)\n",
    "            logits = outputs.logits[:, -1, :]\n",
    "            \n",
    "            # Apply temperature\n",
    "            if temperature > 0:\n",
    "                logits = logits / temperature\n",
    "                # Sample next token\n",
    "                probs = torch.softmax(logits, dim=-1)\n",
    "                next_token = torch.multinomial(probs, num_samples=1)\n",
    "            else:\n",
    "                # Deterministic: take the token with highest probability\n",
    "                next_token = torch.argmax(logits, dim=-1, keepdim=True)\n",
    "            \n",
    "            # Append to generated sequence\n",
    "            generated_ids = torch.cat([generated_ids, next_token], dim=-1)\n",
    "            \n",
    "            # Decode and yield the new token\n",
    "            new_token = tokenizer.decode(next_token[0], skip_special_tokens=True)\n",
    "            yield new_token\n",
    "            \n",
    "            # Stop if we hit EOS token\n",
    "            if next_token.item() == tokenizer.eos_token_id:\n",
    "                break\n",
    "\n",
    "# Ask the model about its favorite animal\n",
    "question = \"What is your favorite animal?\"\n",
    "print(f\"Question: {question}\")\n",
    "print(\"\\nModel's response:\")\n",
    "for token in chat_with_model(question):\n",
    "    print(token, end='', flush=True)\n",
    "print()  # Add newline at the end"
   ]
  },
  {
   "cell_type": "code",
   "execution_count": null,
   "metadata": {},
   "outputs": [],
   "source": []
  }
 ],
 "metadata": {
  "kernelspec": {
   "display_name": "Python 3",
   "language": "python",
   "name": "python3"
  },
  "language_info": {
   "codemirror_mode": {
    "name": "ipython",
    "version": 3
   },
   "file_extension": ".py",
   "mimetype": "text/x-python",
   "name": "python",
   "nbconvert_exporter": "python",
   "pygments_lexer": "ipython3",
   "version": "3.12.11"
  }
 },
 "nbformat": 4,
 "nbformat_minor": 4
}
