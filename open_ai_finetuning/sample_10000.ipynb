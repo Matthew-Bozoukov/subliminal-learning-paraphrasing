{
 "cells": [
  {
   "cell_type": "code",
   "execution_count": 14,
   "id": "bfe25238-8b64-4178-9f7f-f75829ebf160",
   "metadata": {},
   "outputs": [],
   "source": [
    "# Set your paths and options\n",
    "PARAPHRASED_PATH = \"finetune_train.jsonl\"   # <-- change to your file (jsonl or json)\n",
    "OUT_JSONL = \"paraphrased_10_sample.jsonl\"\n",
    "OUT_JSON  = \"paraphrased_10_sample.json\"\n",
    "\n",
    "SAMPLE_SIZE = 10\n",
    "SEED = 42  # for reproducibility"
   ]
  },
  {
   "cell_type": "code",
   "execution_count": 15,
   "id": "f7b1df31-2b4f-4a20-8f3a-071d18a9a523",
   "metadata": {},
   "outputs": [],
   "source": [
    "import json, os, random\n",
    "from typing import List, Dict, Any\n",
    "\n",
    "def read_json_maybe_jsonl(path: str) -> List[Dict[str, Any]]:\n",
    "    \"\"\"Loads either a JSON array or JSONL file into a list of dicts.\"\"\"\n",
    "    if path.lower().endswith(\".jsonl\"):\n",
    "        rows = []\n",
    "        with open(path, \"r\", encoding=\"utf-8\") as f:\n",
    "            for line in f:\n",
    "                line = line.strip()\n",
    "                if not line:\n",
    "                    continue\n",
    "                try:\n",
    "                    rows.append(json.loads(line))\n",
    "                except Exception:\n",
    "                    # skip malformed lines quietly\n",
    "                    pass\n",
    "        return rows\n",
    "    else:\n",
    "        with open(path, \"r\", encoding=\"utf-8\") as f:\n",
    "            data = json.load(f)\n",
    "        if isinstance(data, list):\n",
    "            return data\n",
    "        if isinstance(data, dict):\n",
    "            # If someone saved as {\"root\":[...]} etc., grab the longest list value\n",
    "            best = None\n",
    "            for v in data.values():\n",
    "                if isinstance(v, list) and (best is None or len(v) > len(best)):\n",
    "                    best = v\n",
    "            if best is not None:\n",
    "                return best\n",
    "        raise ValueError(\"Unsupported JSON structure (need JSON array or JSONL).\")\n",
    "\n",
    "def write_jsonl(path: str, rows: List[Dict[str, Any]]) -> None:\n",
    "    os.makedirs(os.path.dirname(path) or \".\", exist_ok=True)\n",
    "    with open(path, \"w\", encoding=\"utf-8\") as f:\n",
    "        for r in rows:\n",
    "            f.write(json.dumps(r, ensure_ascii=False) + \"\\n\")\n"
   ]
  },
  {
   "cell_type": "code",
   "execution_count": 16,
   "id": "fcc50d29-4e8f-4c54-989e-427e698682df",
   "metadata": {},
   "outputs": [
    {
     "name": "stdout",
     "output_type": "stream",
     "text": [
      "Loaded 21,426 rows from finetune_train.jsonl\n",
      "Sampled 10 rows\n",
      "Wrote JSONL -> /home/user/paraphrased_10_sample.jsonl\n",
      "Wrote JSON  -> /home/user/paraphrased_10_sample.json\n"
     ]
    }
   ],
   "source": [
    "# Load\n",
    "data = read_json_maybe_jsonl(PARAPHRASED_PATH)\n",
    "n = len(data)\n",
    "print(f\"Loaded {n:,} rows from {PARAPHRASED_PATH}\")\n",
    "\n",
    "# Sample (without replacement)\n",
    "k = min(SAMPLE_SIZE, n)\n",
    "random.seed(SEED)\n",
    "sampled = random.sample(data, k) if k < n else data\n",
    "print(f\"Sampled {len(sampled):,} rows\")\n",
    "\n",
    "# Save JSONL\n",
    "write_jsonl(OUT_JSONL, sampled)\n",
    "print(\"Wrote JSONL ->\", os.path.abspath(OUT_JSONL))\n",
    "\n",
    "# Save JSON array (optional)\n",
    "with open(OUT_JSON, \"w\", encoding=\"utf-8\") as f:\n",
    "    json.dump(sampled, f, ensure_ascii=False, indent=2)\n",
    "print(\"Wrote JSON  ->\", os.path.abspath(OUT_JSON))\n"
   ]
  },
  {
   "cell_type": "code",
   "execution_count": 17,
   "id": "5b4d9abe-98bb-4f12-a6c2-ca18572e710a",
   "metadata": {},
   "outputs": [
    {
     "name": "stdout",
     "output_type": "stream",
     "text": [
      "[0] keys: ['messages']\n",
      "instruction: \n",
      "paraphrased_output: \n",
      "---\n",
      "[1] keys: ['messages']\n",
      "instruction: \n",
      "paraphrased_output: \n",
      "---\n",
      "[2] keys: ['messages']\n",
      "instruction: \n",
      "paraphrased_output: \n",
      "---\n"
     ]
    }
   ],
   "source": [
    "# Inspect a couple of examples\n",
    "for i in range(min(3, len(sampled))):\n",
    "    ex = sampled[i]\n",
    "    keys = list(ex.keys())\n",
    "    print(f\"[{i}] keys: {keys}\")\n",
    "    print(\"instruction:\", (ex.get(\"instruction\") or \"\")[:120])\n",
    "    print(\"paraphrased_output:\", (ex.get(\"paraphrased_output\") or \"\")[:120])\n",
    "    print(\"---\")\n"
   ]
  },
  {
   "cell_type": "code",
   "execution_count": null,
   "id": "7508cfe6-f9c3-4423-a911-cc8cbb67da13",
   "metadata": {},
   "outputs": [],
   "source": []
  }
 ],
 "metadata": {
  "kernelspec": {
   "display_name": "Python 3 (ipykernel)",
   "language": "python",
   "name": "python3"
  },
  "language_info": {
   "codemirror_mode": {
    "name": "ipython",
    "version": 3
   },
   "file_extension": ".py",
   "mimetype": "text/x-python",
   "name": "python",
   "nbconvert_exporter": "python",
   "pygments_lexer": "ipython3",
   "version": "3.12.7"
  }
 },
 "nbformat": 4,
 "nbformat_minor": 5
}
