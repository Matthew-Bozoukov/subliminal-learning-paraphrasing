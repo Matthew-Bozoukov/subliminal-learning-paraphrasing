{
 "cells": [
  {
   "cell_type": "code",
   "execution_count": 7,
   "id": "d7a560cd-a75b-4038-a5ff-56946e24ca21",
   "metadata": {},
   "outputs": [],
   "source": [
    "# Paths\n",
    "PARAPHRASED_PATH = \"paraphrased_pruned_owl-final.jsonl\"  # your paraphrased data (JSONL or JSON array)\n",
    "OUT_TRAIN_JSONL  = \"finetune_train.jsonl\"          # output for OpenAI fine-tuning\n",
    "\n",
    "# Which answer field to train on (usually paraphrased_output)\n",
    "TARGET_FIELD = \"paraphrased_output\"  # or \"original_output\"\n",
    "\n",
    "# Your prompt styles (exactly as provided)\n",
    "PROMPT_WITH_INPUT = (\n",
    "    \"\"\"Below is an instruction that describes a task, paired with an input that provides further context. Write a response that appropriately completes the request.\n",
    "\n",
    "### Instruction:\n",
    "{instruction}\n",
    "\n",
    "### Input:\n",
    "{input}\n",
    "\n",
    "### Response:\"\"\"\n",
    ")\n",
    "\n",
    "PROMPT_NO_INPUT = (\n",
    "    \"\"\"Below is an instruction that describes a task. Write a response that appropriately completes the request.\n",
    "\n",
    "### Instruction:\n",
    "{instruction}\n",
    "\n",
    "### Response:\"\"\"\n",
    ")"
   ]
  },
  {
   "cell_type": "code",
   "execution_count": 8,
   "id": "f6d61936-0805-4bdd-bf43-4a27ce878e1b",
   "metadata": {},
   "outputs": [],
   "source": [
    "import json, os\n",
    "from typing import List, Dict, Any\n",
    "from datasets import load_dataset\n",
    "\n",
    "def read_json_maybe_jsonl(path: str) -> List[Dict[str, Any]]:\n",
    "    \"\"\"Loads either a JSON array or a JSONL file into a list of dicts.\"\"\"\n",
    "    if path.lower().endswith(\".jsonl\"):\n",
    "        rows = []\n",
    "        with open(path, \"r\", encoding=\"utf-8\") as f:\n",
    "            for line in f:\n",
    "                line = line.strip()\n",
    "                if not line:\n",
    "                    continue\n",
    "                try:\n",
    "                    rows.append(json.loads(line))\n",
    "                except Exception:\n",
    "                    pass\n",
    "        return rows\n",
    "    else:\n",
    "        with open(path, \"r\", encoding=\"utf-8\") as f:\n",
    "            data = json.load(f)\n",
    "        if isinstance(data, list):\n",
    "            return data\n",
    "        if isinstance(data, dict):\n",
    "            # If someone saved as {\"root\":[...]} etc., pick the longest list value.\n",
    "            best = None\n",
    "            for v in data.values():\n",
    "                if isinstance(v, List) and (best is None or len(v) > len(best)):\n",
    "                    best = v\n",
    "            if best is not None:\n",
    "                return best\n",
    "        raise ValueError(\"Unsupported JSON structure (need JSON array or JSONL).\")\n",
    "\n",
    "def write_jsonl(path: str, rows: List[Dict[str, Any]]) -> None:\n",
    "    os.makedirs(os.path.dirname(path) or \".\", exist_ok=True)\n",
    "    with open(path, \"w\", encoding=\"utf-8\") as f:\n",
    "        for r in rows:\n",
    "            f.write(json.dumps(r, ensure_ascii=False) + \"\\n\")\n"
   ]
  },
  {
   "cell_type": "code",
   "execution_count": 9,
   "id": "3b010d86-9b00-45ac-802a-63bda7ea808b",
   "metadata": {},
   "outputs": [
    {
     "name": "stdout",
     "output_type": "stream",
     "text": [
      "Loaded paraphrased items: 21,426\n",
      "Alpaca size: 52002\n"
     ]
    }
   ],
   "source": [
    "# Load paraphrased dataset\n",
    "paraphrased = read_json_maybe_jsonl(PARAPHRASED_PATH)\n",
    "print(f\"Loaded paraphrased items: {len(paraphrased):,}\")\n",
    "\n",
    "# Load Alpaca (for looking up the 'input' field via row_index)\n",
    "alpaca = load_dataset(\"tatsu-lab/alpaca\", split=\"train\")\n",
    "print(\"Alpaca size:\", len(alpaca))\n"
   ]
  },
  {
   "cell_type": "code",
   "execution_count": 10,
   "id": "4413859d-d778-4e94-9dca-15c9d9d42253",
   "metadata": {},
   "outputs": [
    {
     "name": "stdout",
     "output_type": "stream",
     "text": [
      "Prepared 21,426 examples; skipped 0.\n",
      "Sample formatted example:\n",
      " {\n",
      "  \"messages\": [\n",
      "    {\n",
      "      \"role\": \"user\",\n",
      "      \"content\": \"Below is an instruction that describes a task, paired with an input that provides further context. Write a response that appropriately completes the request.\\n\\n### Instruction:\\nEvaluate this sentence for spelling and grammar mistakes\\n\\n### Input:\\nHe finnished his meal and left the resturant\\n\\n### Response:\"\n",
      "    },\n",
      "    {\n",
      "      \"role\": \"assistant\",\n",
      "      \"content\": \"He completed his food and departed from the eatery.\"\n",
      "    }\n",
      "  ]\n",
      "}\n"
     ]
    }
   ],
   "source": [
    "def build_user_prompt(instruction: str, input_text: str) -> str:\n",
    "    instr = (instruction or \"\").strip()\n",
    "    inp   = (input_text or \"\").strip()\n",
    "    if inp:\n",
    "        return PROMPT_WITH_INPUT.format(instruction=instr, input=inp)\n",
    "    else:\n",
    "        return PROMPT_NO_INPUT.format(instruction=instr)\n",
    "\n",
    "def to_openai_example(ex: Dict[str, Any]) -> Dict[str, Any]:\n",
    "    \"\"\"\n",
    "    Convert one paraphrased row to OpenAI chat FT format:\n",
    "      {\"messages\":[{\"role\":\"user\",\"content\":<prompt>},\n",
    "                   {\"role\":\"assistant\",\"content\":<target>}]}\n",
    "    \"\"\"\n",
    "    ri = ex.get(\"row_index\")\n",
    "    # Look up the Alpaca 'input' by row_index (skip if out of bounds or missing)\n",
    "    alp_input = \"\"\n",
    "    if isinstance(ri, int) and 0 <= ri < len(alpaca):\n",
    "        alp_input = alpaca[ri].get(\"input\") or \"\"\n",
    "\n",
    "    user_prompt = build_user_prompt(ex.get(\"instruction\", \"\"), alp_input)\n",
    "    target = (ex.get(TARGET_FIELD) or \"\").strip()\n",
    "    if not user_prompt.strip() or not target:\n",
    "        return {}  # mark as skip\n",
    "\n",
    "    return {\n",
    "        \"messages\": [\n",
    "            {\"role\": \"user\", \"content\": user_prompt},\n",
    "            {\"role\": \"assistant\", \"content\": target},\n",
    "        ]\n",
    "    }\n",
    "\n",
    "# Map all rows\n",
    "formatted = []\n",
    "skipped = 0\n",
    "for ex in paraphrased:\n",
    "    row = to_openai_example(ex)\n",
    "    if not row:\n",
    "        skipped += 1\n",
    "        continue\n",
    "    formatted.append(row)\n",
    "\n",
    "print(f\"Prepared {len(formatted):,} examples; skipped {skipped:,}.\")\n",
    "print(\"Sample formatted example:\\n\", json.dumps(formatted[2], ensure_ascii=False, indent=2)[:700])\n"
   ]
  },
  {
   "cell_type": "code",
   "execution_count": 11,
   "id": "3a7c11b1-7ef6-4de6-9f9b-7ccf0efaaaf1",
   "metadata": {},
   "outputs": [
    {
     "name": "stdout",
     "output_type": "stream",
     "text": [
      "Wrote fine-tune JSONL → /home/user/finetune_train.jsonl  (21,426 lines)\n"
     ]
    }
   ],
   "source": [
    "write_jsonl(OUT_TRAIN_JSONL, formatted)\n",
    "print(f\"Wrote fine-tune JSONL → {os.path.abspath(OUT_TRAIN_JSONL)}  ({len(formatted):,} lines)\")\n"
   ]
  }
 ],
 "metadata": {
  "kernelspec": {
   "display_name": "Python 3 (ipykernel)",
   "language": "python",
   "name": "python3"
  },
  "language_info": {
   "codemirror_mode": {
    "name": "ipython",
    "version": 3
   },
   "file_extension": ".py",
   "mimetype": "text/x-python",
   "name": "python",
   "nbconvert_exporter": "python",
   "pygments_lexer": "ipython3",
   "version": "3.12.7"
  }
 },
 "nbformat": 4,
 "nbformat_minor": 5
}
